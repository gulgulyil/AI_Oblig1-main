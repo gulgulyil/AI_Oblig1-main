{
 "cells": [
  {
   "cell_type": "code",
   "execution_count": 2,
   "metadata": {},
   "outputs": [],
   "source": [
    "import pandas as pd"
   ]
  },
  {
   "cell_type": "code",
   "execution_count": 3,
   "metadata": {},
   "outputs": [],
   "source": [
    "# Read the CVS file\n",
    "Grc_df = pd.read_csv('Grocery_dataset.csv')"
   ]
  },
  {
   "cell_type": "code",
   "execution_count": 4,
   "metadata": {},
   "outputs": [],
   "source": [
    "# Drop columns with index 0 and 6 to create a new DataFrame\n",
    "Grc_new_df = Grc_df.drop(Grc_df.columns[[0, 6]], axis=1)"
   ]
  },
  {
   "cell_type": "code",
   "execution_count": 5,
   "metadata": {},
   "outputs": [],
   "source": [
    "\n",
    "# Create DataFrames for Supermarket Type1 and Type2\n",
    "SupType_1 = Grc_new_df[Grc_new_df['Outlet_Type'] == 'Supermarket Type1']\n",
    "SupType_2 = Grc_new_df[Grc_new_df['Outlet_Type'] == 'Supermarket Type2']\n"
   ]
  },
  {
   "cell_type": "code",
   "execution_count": 7,
   "metadata": {},
   "outputs": [],
   "source": [
    "#Concatenate SupType_1 and SupType_2\n",
    "Grc_Concat_df = pd.concat([SupType_1, SupType_2])"
   ]
  },
  {
   "cell_type": "code",
   "execution_count": 12,
   "metadata": {},
   "outputs": [
    {
     "name": "stdout",
     "output_type": "stream",
     "text": [
      "      Item_Weight Item_Fat_Content  Item_Visibility           Item_Type  \\\n",
      "2370       20.500          Low Fat         0.143164           Household   \n",
      "1657        6.635          Regular         0.046278        Frozen Foods   \n",
      "1543        6.320          Low Fat         0.012770                Meat   \n",
      "3586        9.105          Low Fat         0.038560           Household   \n",
      "2711       19.250          Low Fat         0.108030           Household   \n",
      "...           ...              ...              ...                 ...   \n",
      "2216        9.895          Regular         0.048761        Frozen Foods   \n",
      "997         5.695          Low Fat         0.065961        Frozen Foods   \n",
      "4961       12.600          Regular         0.074339               Dairy   \n",
      "4289        6.825          Low Fat         0.059847  Health and Hygiene   \n",
      "4888       14.850          Regular         0.019495               Dairy   \n",
      "\n",
      "      Item_MRP  Outlet_Establishment_Year Outlet_Size Outlet_Location_Type  \\\n",
      "2370   34.9190                       1987        High               Tier 3   \n",
      "1657   36.7506                       2009      Medium               Tier 3   \n",
      "1543   39.9822                       2009      Medium               Tier 3   \n",
      "3586   33.8900                       2002         NaN               Tier 2   \n",
      "2711   32.4558                       1997       Small               Tier 1   \n",
      "...        ...                        ...         ...                  ...   \n",
      "2216  260.5278                       2002         NaN               Tier 2   \n",
      "997   259.2646                       2007         NaN               Tier 2   \n",
      "4961  255.5356                       2007         NaN               Tier 2   \n",
      "4289  262.5226                       1997       Small               Tier 1   \n",
      "4888  261.2910                       1987        High               Tier 3   \n",
      "\n",
      "            Outlet_Type  Item_Outlet_Sales  \n",
      "2370  Supermarket Type1            73.2380  \n",
      "1657  Supermarket Type2            75.9012  \n",
      "1543  Supermarket Type2            78.5644  \n",
      "3586  Supermarket Type1            99.8700  \n",
      "2711  Supermarket Type1           101.8674  \n",
      "...                 ...                ...  \n",
      "2216  Supermarket Type1          8851.1452  \n",
      "997   Supermarket Type1          9275.9256  \n",
      "4961  Supermarket Type1          9664.7528  \n",
      "4289  Supermarket Type1          9779.9362  \n",
      "4888  Supermarket Type1         10256.6490  \n",
      "\n",
      "[3854 rows x 10 columns]\n"
     ]
    }
   ],
   "source": [
    "#Sort the concatenated DataFrame by the 'Item_Outlet_Sales' column in ascending order\n",
    "Grc_Concat_df_sorted = Grc_Concat_df.sort_values(by = 'Item_Outlet_Sales', ascending= True)\n",
    "print(Grc_Concat_df_sorted)"
   ]
  },
  {
   "cell_type": "code",
   "execution_count": 11,
   "metadata": {},
   "outputs": [
    {
     "name": "stdout",
     "output_type": "stream",
     "text": [
      "The Outlet Location type of the store with the lowest sales is: Tier 3\n"
     ]
    }
   ],
   "source": [
    "#Get the 'Outlet_Location_Type' for the store with the lowest sales\n",
    "lowest_sales_location = Grc_Concat_df_sorted.iloc[0]['Outlet_Location_Type']"
   ]
  },
  {
   "cell_type": "code",
   "execution_count": 10,
   "metadata": {},
   "outputs": [
    {
     "name": "stdout",
     "output_type": "stream",
     "text": [
      "The Outlet Location type of the store with the lowest sales is: Tier 3\n"
     ]
    }
   ],
   "source": [
    "#Print the result\n",
    "print(\"The Outlet Location type of the store with the lowest sales is:\", lowest_sales_location)"
   ]
  }
 ],
 "metadata": {
  "kernelspec": {
   "display_name": "DAVE3625",
   "language": "python",
   "name": "python3"
  },
  "language_info": {
   "codemirror_mode": {
    "name": "ipython",
    "version": 3
   },
   "file_extension": ".py",
   "mimetype": "text/x-python",
   "name": "python",
   "nbconvert_exporter": "python",
   "pygments_lexer": "ipython3",
   "version": "3.8.19"
  }
 },
 "nbformat": 4,
 "nbformat_minor": 2
}

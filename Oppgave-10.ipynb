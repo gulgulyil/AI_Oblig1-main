{
 "cells": [
  {
   "cell_type": "code",
   "execution_count": 10,
   "metadata": {},
   "outputs": [],
   "source": [
    "import numpy as np\n",
    "import pandas as pd\n",
    "import seaborn as sns\n",
    "import matplotlib.pyplot as plt\n",
    "import scipy as snc"
   ]
  },
  {
   "cell_type": "code",
   "execution_count": 3,
   "metadata": {},
   "outputs": [
    {
     "name": "stdout",
     "output_type": "stream",
     "text": [
      "   Item_Weight Item_Fat_Content  Item_Visibility              Item_Type  \\\n",
      "0         9.30          Low Fat         0.016047                  Dairy   \n",
      "1         5.92          Regular         0.019278            Soft Drinks   \n",
      "2        17.50          Low Fat         0.016760                   Meat   \n",
      "3        19.20          Regular         0.000000  Fruits and Vegetables   \n",
      "4         8.93          Low Fat         0.000000              Household   \n",
      "\n",
      "   Item_MRP  Outlet_Establishment_Year Outlet_Size Outlet_Location_Type  \\\n",
      "0  249.8092                       1999      Medium               Tier 1   \n",
      "1   48.2692                       2009      Medium               Tier 3   \n",
      "2  141.6180                       1999      Medium               Tier 1   \n",
      "3  182.0950                       1998         NaN               Tier 3   \n",
      "4   53.8614                       1987        High               Tier 3   \n",
      "\n",
      "         Outlet_Type  Item_Outlet_Sales  \n",
      "0  Supermarket Type1          3735.1380  \n",
      "1  Supermarket Type2           443.4228  \n",
      "2  Supermarket Type1          2097.2700  \n",
      "3      Grocery Store           732.3800  \n",
      "4  Supermarket Type1           994.7052  \n"
     ]
    }
   ],
   "source": [
    "#Step 5: Drop columns with index 0 and 6\n",
    "#Dropping the columns at index 0 and 6 from Grc_df to create a new DataFrame Grc_new_df\n",
    "Grc_df = pd.read_csv('Grocery_dataset.csv')\n",
    "Grc_new_df = Grc_df.drop(Grc_df.columns[[0,6]], axis=1)\n",
    "\n",
    "#Checking the new DataFrame\n",
    "print(Grc_new_df.head())\n"
   ]
  },
  {
   "cell_type": "code",
   "execution_count": 4,
   "metadata": {},
   "outputs": [],
   "source": [
    "SupType_1 = Grc_new_df[Grc_new_df['Outlet_Type'] == 'Supermarket Type1']\n",
    "SupType_2 = Grc_new_df[Grc_new_df['Outlet_Type'] == 'Supermarker Type2']"
   ]
  },
  {
   "cell_type": "code",
   "execution_count": 15,
   "metadata": {},
   "outputs": [],
   "source": [
    "#Step 2: Concatenating SupType_1 and SupType_2 to create Grc_Concat_df\n",
    "Grc_Concat_df = pd.concat([SupType_1, SupType_2])"
   ]
  },
  {
   "cell_type": "code",
   "execution_count": 13,
   "metadata": {},
   "outputs": [],
   "source": [
    "#Step 3: Sorting Grc_Concat_df by 'Item_Outlet_Sales' (optinal for the question)\n",
    "Grc_Concat_df = Grc_Concat_df.sort_values(by='Item_Outlet_Sales')\n"
   ]
  },
  {
   "cell_type": "code",
   "execution_count": 12,
   "metadata": {},
   "outputs": [],
   "source": [
    "#Step 4: 'Item_Weight' and cut it into 10 equal-sized bins\n",
    "#Cutting the 'Item_Weight' column into 10 equal-sized bins\n",
    "weight_bins = pd.cut(Grc_Concat_df['Item_Weight'], bins=10)"
   ]
  },
  {
   "cell_type": "code",
   "execution_count": 11,
   "metadata": {},
   "outputs": [
    {
     "name": "stdout",
     "output_type": "stream",
     "text": [
      "                       mean     min     max  count\n",
      "Item_Weight                                       \n",
      "(4.538, 6.234]     5.609653   4.555   6.215    216\n",
      "(6.234, 7.914]     7.121495   6.235   7.905    408\n",
      "(7.914, 9.594]     8.771889   7.930   9.500    389\n",
      "(9.594, 11.273]   10.358531   9.600  11.150    320\n",
      "(11.273, 12.952]  12.069466  11.300  12.850    365\n",
      "(12.952, 14.632]  13.718404  13.000  14.600    307\n",
      "(14.632, 16.312]  15.510057  14.650  16.250    353\n",
      "(16.312, 17.991]  17.169444  16.350  17.850    342\n",
      "(17.991, 19.671]  18.845665  18.000  19.600    346\n",
      "(19.671, 21.35]   20.346099  19.700  21.350    282\n"
     ]
    }
   ],
   "source": [
    "#Step 5: Group by these bins and calculate mean, min, max, and count for each bucket\n",
    "bucket_stats = Grc_Concat_df.groupby(weight_bins)['Item_Weight'].agg(['mean', 'min', 'max', 'count'])\n",
    "\n",
    "#Step 6: Display the result\n",
    "print(bucket_stats)"
   ]
  }
 ],
 "metadata": {
  "kernelspec": {
   "display_name": "oblig1",
   "language": "python",
   "name": "python3"
  },
  "language_info": {
   "codemirror_mode": {
    "name": "ipython",
    "version": 3
   },
   "file_extension": ".py",
   "mimetype": "text/x-python",
   "name": "python",
   "nbconvert_exporter": "python",
   "pygments_lexer": "ipython3",
   "version": "3.8.19"
  }
 },
 "nbformat": 4,
 "nbformat_minor": 2
}
